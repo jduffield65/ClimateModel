{
 "cells": [
  {
   "cell_type": "code",
   "id": "initial_id",
   "metadata": {
    "collapsed": true,
    "ExecuteTime": {
     "end_time": "2025-05-25T11:12:59.864068Z",
     "start_time": "2025-05-25T11:12:59.854920Z"
    }
   },
   "source": [
    "import os.path\n",
    "import warnings\n",
    "\n",
    "from Model.radiation.real_gas_data.hitran import LookupTableFolder\n",
    "from Model.radiation.real_gas_data.specific_humidity import p_altitude_convert\n",
    "from centa_presentation.base import get_olr_area\n",
    "\n",
    "warnings.filterwarnings(\"ignore\") # ignore all warnings in this notebook\n",
    "import matplotlib.pyplot as plt\n",
    "from Model.radiation.base import round_any\n",
    "import Model.radiation.real_gas_data.hitran as hitran\n",
    "import Model.radiation.real_gas_data.specific_humidity as humidity\n",
    "from Model.radiation.real_gas_data.temperature_profiles import earth_temp, fixed_tropopause_temp, two_lapse_temp\n",
    "from Model.radiation.real_gas import RealGas, transmission, B_wavenumber, optical_depth, sigma\n",
    "from IPython.display import HTML\n",
    "import numpy as np\n",
    "import os\n",
    "from tqdm.notebook import tqdm\n",
    "plt.style.use('/Users/joshduffield/Documents/StAndrews/Isca/jobs/tau_sweep/aquaplanet/publish_figures/publish.mplstyle')\n",
    "import sys\n",
    "sys.path.append('/Users/joshduffield/Documents/StAndrews/Isca/')\n",
    "from isca_tools.plot import label_subplots, fig_resize, update_linewidth, update_fontsize, savefig"
   ],
   "outputs": [],
   "execution_count": 192
  },
  {
   "metadata": {},
   "cell_type": "markdown",
   "source": [
    "### Gray gas absorption coefficient\n",
    "The absorption coefficient of a gray gas is $\\kappa=1$ at all wavenumbers as indicated below."
   ],
   "id": "d6d498a4a34690c3"
  },
  {
   "metadata": {
    "ExecuteTime": {
     "end_time": "2025-05-23T17:47:52.588648Z",
     "start_time": "2025-05-23T17:47:52.359541Z"
    }
   },
   "cell_type": "code",
   "source": [
    "if os.path.isfile(LookupTableFolder + 'gray.npy'):\n",
    "    print('gray file exists')\n",
    "    hitran.plot_absorption_coefficient('gray', hitran.p_reference, 270)\n",
    "else:\n",
    "    # Just edit single line molecule, but make 1 everywhere\n",
    "    sing_line_lookup = np.load(f'{LookupTableFolder}/single_line.npy',\n",
    "                               allow_pickle=True).item();\n",
    "    # sing_line_lookup['absorption_coef'] *= 0\n",
    "    # sing_line_lookup['absorption_coef'] += 1\n",
    "    sing_line_lookup['nu'] = np.arange(0, 5000+hitran.table_dnu, hitran.table_dnu)\n",
    "    sing_line_lookup['absorption_coef'] = np.ones((1, 1, sing_line_lookup['nu'].size))\n",
    "    np.save(LookupTableFolder + 'gray.npy', sing_line_lookup)"
   ],
   "id": "beecd88751395388",
   "outputs": [
    {
     "name": "stdout",
     "output_type": "stream",
     "text": [
      "gray file exists\n"
     ]
    },
    {
     "data": {
      "text/plain": [
       "<Figure size 432x288 with 1 Axes>"
      ],
      "image/png": "[encoded data removed]"
     },
     "metadata": {
      "needs_background": "light"
     },
     "output_type": "display_data"
    }
   ],
   "execution_count": 2
  },
  {
   "metadata": {
    "ExecuteTime": {
     "end_time": "2025-05-23T17:47:52.599416Z",
     "start_time": "2025-05-23T17:47:52.597513Z"
    }
   },
   "cell_type": "code",
   "source": [
    "p_toa = 10  # Top of atmosphere pressure for this notebook (Pa)\n",
    "n_bands = 200 # number of wavenumber bands in this notebook"
   ],
   "id": "adfb1aab4440bd07",
   "outputs": [],
   "execution_count": 3
  },
  {
   "metadata": {
    "ExecuteTime": {
     "end_time": "2025-05-25T10:35:07.243727Z",
     "start_time": "2025-05-25T10:35:07.229411Z"
    }
   },
   "cell_type": "code",
   "source": [
    "# plotting info\n",
    "lw_large = 1.8\n",
    "im_width = 6.4\n",
    "\n",
    "default_colors = plt.rcParams['axes.prop_cycle'].by_key()['color']\n",
    "ax_linewidth = plt.rcParams['axes.linewidth']\n",
    "\n",
    "leg_info = {'handlelength': 2, 'labelspacing': 1, 'columnspacing': 0.9, 'handletextpad': 1}       # info for legend\n",
    "def add_legend(ax, handles=None, labels=None, ncol=1, title=None, loc=None, frameon=False, edgecolor=\"k\", borderpad=None,\n",
    "               labelspacing=leg_info['labelspacing'], handlelength=leg_info['handlelength'],\n",
    "               columnspacing=leg_info['columnspacing'], handletextpad=leg_info['handletextpad']):\n",
    "    if handles is None:\n",
    "        return ax.legend(ncol=ncol, title=title, loc=loc, frameon=frameon, edgecolor=edgecolor, borderpad=None,\n",
    "                 labelspacing=labelspacing, handlelength=handlelength,\n",
    "                 columnspacing=columnspacing, handletextpad=handletextpad)\n",
    "    else:\n",
    "        return ax.legend(handles, labels, ncol=ncol, title=title, loc=loc, frameon=frameon, edgecolor=edgecolor, borderpad=None,\n",
    "                         labelspacing=labelspacing, handlelength=handlelength,\n",
    "                         columnspacing=columnspacing, handletextpad=handletextpad)\n",
    "\n",
    "# adjust update stuff for presentation\n",
    "fig_resize_use = lambda x: fig_resize(x, im_width, ar=1.9)\n",
    "update_linewidth_use = lambda x: update_linewidth(x, base_linewidth=0.8)\n",
    "update_fontsize_use = lambda x: update_fontsize(x, base_fontsize=5.5)"
   ],
   "id": "60f4380a8bb22154",
   "outputs": [],
   "execution_count": 132
  },
  {
   "metadata": {},
   "cell_type": "markdown",
   "source": [
    "## Temperature profile\n",
    "The default temperature profile is lapse rate of 6K/km in troposphere, and 0 in stratosphere. This is index `1` in both lapse rate arrays. We also use this profile in the real gas notebook.\n",
    "\n",
    "The other values in the array are for investigating the role of temperature profile on OLR reduction per unit mass of GHG added."
   ],
   "id": "54bf7460b7009d60"
  },
  {
   "metadata": {
    "ExecuteTime": {
     "end_time": "2025-05-25T11:05:46.770113Z",
     "start_time": "2025-05-25T11:05:46.760500Z"
    }
   },
   "cell_type": "code",
   "source": [
    "lapse_trop_array = [8, 6, 4]    # lapse rate in kelvin per km (dry is 9.8)\n",
    "lapse_rate_trop = lapse_trop_array[1]\n",
    "lapse_strat_array = [lapse_rate_trop, 0, -lapse_rate_trop]\n",
    "lapse_strat = lapse_strat_array[1]\n",
    "h_tropopause = 12 # height of tropopause in km\n",
    "h_top = 20\n",
    "temp_surf = 290 # temperature of surface in K\n",
    "temp_tropopause = temp_surf - lapse_rate_trop * h_tropopause\n",
    "# temp_profile_use = lambda x: fixed_tropopause_temp(x, h_tropopause, temp_tropopause, temp_surf)\n",
    "def temp_profile_use(x, y=lapse_strat, y2=lapse_rate_trop):\n",
    "    return two_lapse_temp(x, h_tropopause, h_top, temp_surf, y2, y)\n",
    "# def temp_profile_use(x):\n",
    "#     var = fixed_tropopause_temp(x, h_tropopause, temp_tropopause, temp_surf)\n",
    "#     var[var<= temp_tropopause] = temp_surf\n",
    "#     return var"
   ],
   "id": "edfe5cb3e4815d46",
   "outputs": [],
   "execution_count": 171
  },
  {
   "metadata": {
    "ExecuteTime": {
     "end_time": "2025-05-25T11:05:47.511085Z",
     "start_time": "2025-05-25T11:05:46.792348Z"
    }
   },
   "cell_type": "code",
   "source": [
    "gray_atmos = RealGas(nz='auto', ny=1, molecule_names=['gray'], p_toa=p_toa,\n",
    "                            q_funcs={'gray': humidity.constant_q}, q_funcs_args={'gray': (300,'co2')},\n",
    "                            T_func=temp_profile_use, n_nu_bands=n_bands)\n"
   ],
   "id": "8e5c75a05c086abf",
   "outputs": [],
   "execution_count": 172
  },
  {
   "metadata": {
    "ExecuteTime": {
     "end_time": "2025-05-25T11:05:47.589885Z",
     "start_time": "2025-05-25T11:05:47.523187Z"
    }
   },
   "cell_type": "code",
   "source": [
    "fig, ax = plt.subplots(1, 1)\n",
    "labels_use = ['All Troposphere', 'Isothermal Stratosphere', 'Inverted Stratosphere']\n",
    "colors_use = [default_colors[0], 'k', default_colors[3]]\n",
    "fig_resize_use(fig)\n",
    "height_plot = p_altitude_convert(p=gray_atmos.p)/1000\n",
    "for i in range(len(lapse_strat_array)):\n",
    "    # Only have one line in troposphere\n",
    "    if i==1:\n",
    "        mask = height_plot > 0\n",
    "    else:\n",
    "        mask = height_plot > h_tropopause-1\n",
    "    ax.plot(temp_profile_use(gray_atmos.p, lapse_strat_array[i])[mask], height_plot[mask], label=lapse_strat_array[i], color=colors_use[i])\n",
    "# for i in range(len(lapse_trop_array)):\n",
    "#     # if i!=1:\n",
    "#     #     continue\n",
    "#     ax.plot(temp_profile_use(gray_atmos.p, y2=lapse_trop_array[i]), p_altitude_convert(p=gray_atmos.p)/1000, label=lapse_trop_array[i],\n",
    "#             color=colors_use[i])\n",
    "# ax.invert_yaxis()\n",
    "ax.set_ylim(0, 25)\n",
    "ax.set_xlim(169, 290)\n",
    "update_linewidth_use(fig)\n",
    "ax.axhline(h_tropopause, color='k', lw=ax_linewidth)\n",
    "add_legend(ax, title='Lapse Rate [K/km]')\n",
    "update_fontsize_use(fig)\n",
    "ax.set_xlabel('Temperature [K]')\n",
    "ax.set_ylabel('Altitude [km]')\n",
    "plt.show()\n",
    "# savefig(fig)"
   ],
   "id": "616c20f4b8ff12f",
   "outputs": [
    {
     "data": {
      "text/plain": [
       "<Figure size 460.8x242.526 with 1 Axes>"
      ],
      "image/png": "[encoded data removed]"
     },
     "metadata": {
      "needs_background": "light"
     },
     "output_type": "display_data"
    }
   ],
   "execution_count": 173
  },
  {
   "metadata": {
    "ExecuteTime": {
     "end_time": "2025-05-25T11:06:11.903963Z",
     "start_time": "2025-05-25T11:05:47.602991Z"
    }
   },
   "cell_type": "code",
   "source": [
    "co2_conc = np.arange(0, 1000+50, 50)\n",
    "co2_conc[0] = 1   # otherwise get 0 error\n",
    "n_conc = co2_conc.size\n",
    "olr_breakdown = {key: np.zeros(n_conc) for key in ['all', 'surface', 'atmos']}\n",
    "for i in tqdm(range(n_conc)):\n",
    "    gray_atmos = RealGas(nz='auto', ny=1, molecule_names=['gray'], p_toa=p_toa,\n",
    "                                q_funcs={'gray': humidity.constant_q}, q_funcs_args={'gray': (co2_conc[i],'co2')},\n",
    "                                T_func=temp_profile_use, n_nu_bands=n_bands)\n",
    "    olr_breakdown['all'][i] = get_olr_area(gray_atmos)\n",
    "    var = gray_atmos.get_flux(include_olr_breakdown=True)[2]\n",
    "    olr_breakdown['surface'][i] = get_olr_area(gray_atmos, flux=var['surface'])\n",
    "olr_breakdown['atmos'] = olr_breakdown['all'] - olr_breakdown['surface']\n",
    "olr_tropopause = get_olr_area(gray_atmos, flux=B_wavenumber(gray_atmos.nu_bands['centre'], temp_tropopause)*np.pi)"
   ],
   "id": "38c4e97aa490afb2",
   "outputs": [
    {
     "data": {
      "text/plain": [
       "  0%|          | 0/21 [00:00<?, ?it/s]"
      ],
      "application/vnd.jupyter.widget-view+json": {
       "version_major": 2,
       "version_minor": 0,
       "model_id": "f827fa97f64b42319eca18e14da8126f"
      },
      "application/json": {
       "n": 0,
       "total": 21,
       "elapsed": 0.0043451786041259766,
       "ncols": null,
       "nrows": null,
       "prefix": "",
       "ascii": false,
       "unit": "it",
       "unit_scale": false,
       "rate": null,
       "bar_format": null,
       "postfix": null,
       "unit_divisor": 1000,
       "initial": 0,
       "colour": null
      }
     },
     "metadata": {},
     "output_type": "display_data"
    }
   ],
   "execution_count": 174
  },
  {
   "metadata": {
    "ExecuteTime": {
     "end_time": "2025-05-25T11:06:11.930068Z",
     "start_time": "2025-05-25T11:06:11.927186Z"
    }
   },
   "cell_type": "code",
   "source": [
    "linestyle_olr = {'all': '-', 'surface': '--', 'atmos': ':'}\n",
    "label_olr = {'all': 'Total', 'surface': 'Surface', 'atmos': 'Atmosphere'}"
   ],
   "id": "9e3186e025bb416d",
   "outputs": [],
   "execution_count": 175
  },
  {
   "metadata": {
    "ExecuteTime": {
     "end_time": "2025-05-25T11:06:12.092619Z",
     "start_time": "2025-05-25T11:06:11.963735Z"
    }
   },
   "cell_type": "code",
   "source": [
    "fig, ax = plt.subplots(1, 1)\n",
    "fig_resize_use(fig)\n",
    "for key in olr_breakdown:\n",
    "    ax.plot(co2_conc, olr_breakdown[key], color='k', linestyle=linestyle_olr[key], label=label_olr[key])\n",
    "# ax.plot(co2_conc, olr_breakdown['atmos'])\n",
    "\n",
    "update_linewidth_use(fig)\n",
    "ax.axhline(olr_tropopause, color='r', lw=ax_linewidth)\n",
    "add_legend(ax)\n",
    "update_fontsize_use(fig)\n",
    "ax.set_xlabel('GHG concentration [ppmv]')\n",
    "ax.set_ylabel('OLR [Wm$^{-2}$]')\n",
    "ax.set_xlim(0, co2_conc[-1])\n",
    "ax.set_ylim(0, 400)\n",
    "plt.show()\n",
    "savefig(fig)"
   ],
   "id": "2115a3470fb6491a",
   "outputs": [
    {
     "data": {
      "text/plain": [
       "<Figure size 460.8x242.526 with 1 Axes>"
      ],
      "image/png": "[encoded data removed]"
     },
     "metadata": {
      "needs_background": "light"
     },
     "output_type": "display_data"
    }
   ],
   "execution_count": 176
  },
  {
   "metadata": {},
   "cell_type": "markdown",
   "source": [
    "## Location of GHG\n",
    "Below, we investigate whether it is more effective for a GHG to be added at surface or high in atmosphere."
   ],
   "id": "5bdd390512bd2052"
  },
  {
   "metadata": {
    "ExecuteTime": {
     "end_time": "2025-05-25T11:17:45.422592Z",
     "start_time": "2025-05-25T11:17:45.414758Z"
    }
   },
   "cell_type": "code",
   "source": [
    "q_funcs = {'surface': humidity.gradient_q, 'tropopause': humidity.gradient_q}\n",
    "q_args = {'surface': lambda x: (x, 0, h_tropopause*1000, 'co2'), 'tropopause': lambda x: (0, x, h_tropopause*1000, 'co2')}"
   ],
   "id": "e7200da74cb1ba53",
   "outputs": [],
   "execution_count": 204
  },
  {
   "metadata": {
    "ExecuteTime": {
     "end_time": "2025-05-25T14:13:18.408409Z",
     "start_time": "2025-05-25T14:13:18.348775Z"
    }
   },
   "cell_type": "code",
   "source": [
    "fig, ax = plt.subplots(1, 1)\n",
    "fig_resize_use(fig)\n",
    "ax.axvline(co2_conc[-1], color='k', label='Constant')\n",
    "for key in q_args:\n",
    "    ax.plot(humidity.ppmv_from_humidity(\n",
    "        q_funcs[key](gray_atmos.p, *q_args[key](co2_conc[-1])), 'CO2'),\n",
    "        p_altitude_convert(p=gray_atmos.p)/1000, label=key.capitalize()+' peak')\n",
    "ax.set_ylim(0, 20)\n",
    "ax.set_xlabel('Volume Mixing Ratio (ppmv)')\n",
    "ax.set_ylabel('Altitude [km]')\n",
    "ax.set_xlim(-10, 1010)\n",
    "update_linewidth_use(fig)\n",
    "ax.axhline(h_tropopause, color='k', lw=ax_linewidth)\n",
    "# add_legend(ax)\n",
    "update_fontsize_use(fig)\n",
    "plt.show()\n",
    "# savefig(fig)"
   ],
   "id": "4bfaa22584e1da9b",
   "outputs": [
    {
     "data": {
      "text/plain": [
       "<Figure size 460.8x242.526 with 1 Axes>"
      ],
      "image/png": "[encoded data removed]"
     },
     "metadata": {
      "needs_background": "light"
     },
     "output_type": "display_data"
    }
   ],
   "execution_count": 219
  },
  {
   "metadata": {
    "ExecuteTime": {
     "end_time": "2025-05-25T11:06:12.104649Z",
     "start_time": "2025-05-25T11:06:12.102788Z"
    }
   },
   "cell_type": "code",
   "source": [
    "if lapse_strat != 0:\n",
    "    raise ValueError('The below stuff is only for lase_strat=0')"
   ],
   "id": "9c7fc1aab9eabc7d",
   "outputs": [],
   "execution_count": 177
  },
  {
   "metadata": {
    "ExecuteTime": {
     "end_time": "2025-05-25T11:06:42.952010Z",
     "start_time": "2025-05-25T11:06:12.135199Z"
    }
   },
   "cell_type": "code",
   "source": [
    "olr_breakdown_sfc = {key: np.zeros(n_conc) for key in ['all', 'surface', 'atmos']}\n",
    "for i in tqdm(range(n_conc)):\n",
    "    gray_atmos = RealGas(nz='auto', ny=1, molecule_names=['gray'], p_toa=p_toa,\n",
    "                            q_funcs={'gray': humidity.gradient_q}, q_funcs_args={'gray': (co2_conc[i], 0, h_tropopause*1000, 'co2')},\n",
    "                            T_func=temp_profile_use, n_nu_bands=n_bands)\n",
    "    olr_breakdown_sfc['all'][i] = get_olr_area(gray_atmos)\n",
    "    var = gray_atmos.get_flux(include_olr_breakdown=True)[2]\n",
    "    olr_breakdown_sfc['surface'][i] = get_olr_area(gray_atmos, flux=var['surface'])\n",
    "olr_breakdown_sfc['atmos'] = olr_breakdown_sfc['all'] - olr_breakdown_sfc['surface']"
   ],
   "id": "735c44bc2621d2cb",
   "outputs": [
    {
     "data": {
      "text/plain": [
       "  0%|          | 0/21 [00:00<?, ?it/s]"
      ],
      "application/vnd.jupyter.widget-view+json": {
       "version_major": 2,
       "version_minor": 0,
       "model_id": "1e6639aaea15434db9c8c3cb3d47ea4e"
      },
      "application/json": {
       "n": 0,
       "total": 21,
       "elapsed": 0.00445103645324707,
       "ncols": null,
       "nrows": null,
       "prefix": "",
       "ascii": false,
       "unit": "it",
       "unit_scale": false,
       "rate": null,
       "bar_format": null,
       "postfix": null,
       "unit_divisor": 1000,
       "initial": 0,
       "colour": null
      }
     },
     "metadata": {},
     "output_type": "display_data"
    }
   ],
   "execution_count": 178
  },
  {
   "metadata": {
    "ExecuteTime": {
     "end_time": "2025-05-25T11:07:00.064856Z",
     "start_time": "2025-05-25T11:06:42.985985Z"
    }
   },
   "cell_type": "code",
   "source": [
    "olr_breakdown_atm = {key: np.zeros(n_conc) for key in ['all', 'surface', 'atmos']}\n",
    "for i in tqdm(range(n_conc)):\n",
    "    gray_atmos = RealGas(nz='auto', ny=1, molecule_names=['gray'], p_toa=p_toa,\n",
    "                            q_funcs={'gray': humidity.gradient_q}, q_funcs_args={'gray': (0, co2_conc[i], h_tropopause*1000, 'co2')},\n",
    "                            T_func=temp_profile_use, n_nu_bands=n_bands)\n",
    "    olr_breakdown_atm['all'][i] = get_olr_area(gray_atmos)\n",
    "    var = gray_atmos.get_flux(include_olr_breakdown=True)[2]\n",
    "    olr_breakdown_atm['surface'][i] = get_olr_area(gray_atmos, flux=var['surface'])\n",
    "olr_breakdown_atm['atmos'] = olr_breakdown_atm['all'] - olr_breakdown_atm['surface']"
   ],
   "id": "ba10d251747419b7",
   "outputs": [
    {
     "data": {
      "text/plain": [
       "  0%|          | 0/21 [00:00<?, ?it/s]"
      ],
      "application/vnd.jupyter.widget-view+json": {
       "version_major": 2,
       "version_minor": 0,
       "model_id": "0400fadf576e497aad31cc55b5440609"
      },
      "application/json": {
       "n": 0,
       "total": 21,
       "elapsed": 0.0045261383056640625,
       "ncols": null,
       "nrows": null,
       "prefix": "",
       "ascii": false,
       "unit": "it",
       "unit_scale": false,
       "rate": null,
       "bar_format": null,
       "postfix": null,
       "unit_divisor": 1000,
       "initial": 0,
       "colour": null
      }
     },
     "metadata": {},
     "output_type": "display_data"
    }
   ],
   "execution_count": 179
  },
  {
   "metadata": {
    "ExecuteTime": {
     "end_time": "2025-05-25T11:22:06.015291Z",
     "start_time": "2025-05-25T11:22:05.938547Z"
    }
   },
   "cell_type": "code",
   "source": [
    "fig, ax = plt.subplots(1, 1)\n",
    "fig_resize_use(fig)\n",
    "for key in olr_breakdown_sfc:\n",
    "    # ax.plot(co2_conc, olr_breakdown[key], color='k', linestyle=linestyle_olr[key], label='Constant' if key=='all' else None, alpha=0.2)\n",
    "    ax.plot(co2_conc, olr_breakdown_sfc[key], color=default_colors[0], linestyle=linestyle_olr[key], label='Surface peak' if key=='all' else None)\n",
    "    ax.plot(co2_conc, olr_breakdown_atm[key], color=default_colors[1], linestyle=linestyle_olr[key], label='Tropopause peak' if key=='all' else None)\n",
    "# ax.plot(co2_conc, olr_breakdown['atmos'])\n",
    "\n",
    "update_linewidth_use(fig)\n",
    "ax.axhline(olr_tropopause, color='r', lw=ax_linewidth)\n",
    "add_legend(ax)\n",
    "update_fontsize_use(fig)\n",
    "ax.set_xlabel('GHG concentration [ppmv]')\n",
    "ax.set_ylabel('OLR [Wm$^{-2}$]')\n",
    "ax.set_xlim(0, co2_conc[-1])\n",
    "ax.set_ylim(0, 400)\n",
    "plt.show()\n",
    "# savefig(fig)"
   ],
   "id": "9d395761fdfd2d0f",
   "outputs": [
    {
     "data": {
      "text/plain": [
       "<Figure size 460.8x242.526 with 1 Axes>"
      ],
      "image/png": "[encoded data removed]"
     },
     "metadata": {
      "needs_background": "light"
     },
     "output_type": "display_data"
    }
   ],
   "execution_count": 212
  },
  {
   "metadata": {
    "ExecuteTime": {
     "end_time": "2025-05-26T08:21:05.956109Z",
     "start_time": "2025-05-26T08:21:05.950441Z"
    }
   },
   "cell_type": "code",
   "source": "",
   "id": "15fea5f11074f13f",
   "outputs": [],
   "execution_count": null
  },
  {
   "metadata": {},
   "cell_type": "code",
   "outputs": [],
   "execution_count": null,
   "source": "",
   "id": "876dc7fd74f2839b"
  }
 ],
 "metadata": {
  "kernelspec": {
   "display_name": "Python 3",
   "language": "python",
   "name": "python3"
  },
  "language_info": {
   "codemirror_mode": {
    "name": "ipython",
    "version": 2
   },
   "file_extension": ".py",
   "mimetype": "text/x-python",
   "name": "python",
   "nbconvert_exporter": "python",
   "pygments_lexer": "ipython2",
   "version": "2.7.6"
  }
 },
 "nbformat": 4,
 "nbformat_minor": 5
}
