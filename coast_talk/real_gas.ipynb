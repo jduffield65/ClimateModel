{
 "cells": [
  {
   "cell_type": "code",
   "id": "initial_id",
   "metadata": {
    "collapsed": true,
    "ExecuteTime": {
     "end_time": "2025-05-27T14:02:54.066820Z",
     "start_time": "2025-05-27T14:02:52.313431Z"
    }
   },
   "source": [
    "import os.path\n",
    "import warnings\n",
    "\n",
    "from Model.radiation.real_gas_data.hitran import LookupTableFolder\n",
    "from Model.radiation.real_gas_data.specific_humidity import p_altitude_convert, molecules\n",
    "from centa_presentation.base import get_olr_area, eqv_ppmv\n",
    "\n",
    "warnings.filterwarnings(\"ignore\") # ignore all warnings in this notebook\n",
    "import matplotlib.pyplot as plt\n",
    "from Model.radiation.base import round_any\n",
    "import Model.radiation.real_gas_data.hitran as hitran\n",
    "import Model.radiation.real_gas_data.specific_humidity as humidity\n",
    "from Model.radiation.real_gas_data.temperature_profiles import earth_temp, fixed_tropopause_temp, two_lapse_temp\n",
    "from Model.radiation.real_gas import RealGas, transmission, B_wavenumber, optical_depth, sigma\n",
    "from IPython.display import HTML\n",
    "import numpy as np\n",
    "import os\n",
    "from tqdm.notebook import tqdm\n",
    "plt.style.use('/Users/joshduffield/Documents/StAndrews/Isca/jobs/tau_sweep/aquaplanet/publish_figures/publish.mplstyle')\n",
    "import sys\n",
    "sys.path.append('/Users/joshduffield/Documents/StAndrews/Isca/')\n",
    "from isca_tools.plot import label_subplots, fig_resize, update_linewidth, update_fontsize, savefig\n",
    "from matplotlib.animation import FuncAnimation\n",
    "from IPython.display import HTML\n",
    "import matplotlib"
   ],
   "outputs": [
    {
     "name": "stderr",
     "output_type": "stream",
     "text": [
      "/Users/joshduffield/miniforge3/envs/ClimateModel/lib/python3.8/site-packages/sympl/_core/dataarray.py:6: FutureWarning: xarray subclass DataArray should explicitly define __slots__\n",
      "  class DataArray(xr.DataArray):\n"
     ]
    }
   ],
   "execution_count": 1
  },
  {
   "metadata": {
    "ExecuteTime": {
     "end_time": "2025-05-27T14:02:54.089886Z",
     "start_time": "2025-05-27T14:02:54.084359Z"
    }
   },
   "cell_type": "code",
   "source": [
    "p_toa = 10  # Top of atmosphere pressure for this notebook (Pa)\n",
    "n_bands = 200 # number of wavenumber bands in this notebook"
   ],
   "id": "adfb1aab4440bd07",
   "outputs": [],
   "execution_count": 2
  },
  {
   "metadata": {
    "ExecuteTime": {
     "end_time": "2025-05-27T14:02:54.197982Z",
     "start_time": "2025-05-27T14:02:54.192977Z"
    }
   },
   "cell_type": "code",
   "source": [
    "# plotting info\n",
    "lw_large = 1.8\n",
    "im_width = 6.4\n",
    "\n",
    "default_colors = plt.rcParams['axes.prop_cycle'].by_key()['color']\n",
    "ax_linewidth = plt.rcParams['axes.linewidth']\n",
    "colors_molecule = {'h2o': default_colors[0], 'co2': default_colors[1], 'ch4': default_colors[2], 'o3': default_colors[3], 'gray': 'gray',\n",
    "                   'cfc12': default_colors[4]}\n",
    "label_molecule = {'h2o': '$H_2O$', 'co2': '$CO_2$', 'ch4': '$CH_4$', 'o3': '$O_3$', 'gray': None, 'cfc12': 'CFC-12'}\n",
    "\n",
    "leg_info = {'handlelength': 2, 'labelspacing': 1, 'columnspacing': 0.9, 'handletextpad': 1}       # info for legend\n",
    "def add_legend(ax, handles=None, labels=None, ncol=1, title=None, loc=None, frameon=False, edgecolor=\"k\", borderpad=None,\n",
    "               labelspacing=leg_info['labelspacing'], handlelength=leg_info['handlelength'],\n",
    "               columnspacing=leg_info['columnspacing'], handletextpad=leg_info['handletextpad']):\n",
    "    if handles is None:\n",
    "        return ax.legend(ncol=ncol, title=title, loc=loc, frameon=frameon, edgecolor=edgecolor, borderpad=None,\n",
    "                 labelspacing=labelspacing, handlelength=handlelength,\n",
    "                 columnspacing=columnspacing, handletextpad=handletextpad)\n",
    "    else:\n",
    "        return ax.legend(handles, labels, ncol=ncol, title=title, loc=loc, frameon=frameon, edgecolor=edgecolor, borderpad=None,\n",
    "                         labelspacing=labelspacing, handlelength=handlelength,\n",
    "                         columnspacing=columnspacing, handletextpad=handletextpad)\n",
    "\n",
    "# adjust update stuff for presentation\n",
    "fig_resize_use = lambda x: fig_resize(x, im_width, ar=1.9)\n",
    "update_linewidth_use = lambda x: update_linewidth(x, base_linewidth=0.5)\n",
    "update_fontsize_use = lambda x: update_fontsize(x, base_fontsize=5.5)"
   ],
   "id": "60f4380a8bb22154",
   "outputs": [],
   "execution_count": 3
  },
  {
   "metadata": {},
   "cell_type": "markdown",
   "source": [
    "## Set base temperature profile\n",
    "This stays the same throughout notebook, same as gray case. Isothermal stratosphere and constant lapse rate of 6K/km in troposphere."
   ],
   "id": "54bf7460b7009d60"
  },
  {
   "metadata": {
    "ExecuteTime": {
     "end_time": "2025-05-27T14:02:54.212952Z",
     "start_time": "2025-05-27T14:02:54.209816Z"
    }
   },
   "cell_type": "code",
   "source": [
    "lapse_rate = 6 # lapse rate in kelvin per km (dry is 9.8)\n",
    "lapse_strat = 0\n",
    "h_tropopause = 12 # height of tropopause in km\n",
    "h_top = 20\n",
    "temp_surf = 290 # temperature of surface in K\n",
    "temp_tropopause = temp_surf - lapse_rate * h_tropopause\n",
    "# temp_profile_use = lambda x: fixed_tropopause_temp(x, h_tropopause, temp_tropopause, temp_surf)\n",
    "def temp_profile_use(x, y=lapse_strat):\n",
    "    return two_lapse_temp(x, h_tropopause, h_top, temp_surf, lapse_rate, y)\n",
    "# def temp_profile_use(x):\n",
    "#     var = fixed_tropopause_temp(x, h_tropopause, temp_tropopause, temp_surf)\n",
    "#     var[var<= temp_tropopause] = temp_surf\n",
    "#     return var"
   ],
   "id": "edfe5cb3e4815d46",
   "outputs": [],
   "execution_count": 4
  },
  {
   "metadata": {
    "ExecuteTime": {
     "end_time": "2025-05-27T14:02:54.970943Z",
     "start_time": "2025-05-27T14:02:54.225904Z"
    }
   },
   "cell_type": "code",
   "source": [
    "atmos_base = RealGas(nz='auto', ny=1, molecule_names=['gray'], p_toa=p_toa,\n",
    "                     q_funcs={'gray': humidity.constant_q}, q_funcs_args={'gray': (300,'co2')},\n",
    "                     T_func=temp_profile_use, n_nu_bands=n_bands)\n",
    "spectrum_tropopause = B_wavenumber(atmos_base.nu_bands['centre'], temp_tropopause) * np.pi\n",
    "spectrum_surface = B_wavenumber(atmos_base.nu_bands['centre'], temp_surf) * np.pi\n",
    "\n",
    "ax_lim_spectrum = [200, 1800]\n",
    "ax_lim_flux = [0, 0.46]"
   ],
   "id": "8e5c75a05c086abf",
   "outputs": [],
   "execution_count": 5
  },
  {
   "metadata": {
    "ExecuteTime": {
     "end_time": "2025-05-27T14:02:54.990866Z",
     "start_time": "2025-05-27T14:02:54.982249Z"
    }
   },
   "cell_type": "code",
   "source": [
    "# Modified function to preserve continuity\n",
    "# chatgpt function to plot line only where mask satisfied\n",
    "def get_continuous_segments(x, y, mask):\n",
    "    segments = []\n",
    "    current_x = [x[0]]\n",
    "    current_y = [y[0]]\n",
    "    current_state = mask[0]\n",
    "\n",
    "    for i in range(1, len(x)):\n",
    "        this_state = mask[i]\n",
    "        if this_state != current_state:\n",
    "            # Include boundary point to both segments\n",
    "            current_x.append(x[i])\n",
    "            current_y.append(y[i])\n",
    "            segments.append((np.array(current_x), np.array(current_y), current_state))\n",
    "            current_x = [x[i - 1], x[i]]\n",
    "            current_y = [y[i - 1], y[i]]\n",
    "            current_state = this_state\n",
    "        else:\n",
    "            current_x.append(x[i])\n",
    "            current_y.append(y[i])\n",
    "    segments.append((np.array(current_x), np.array(current_y), current_state))\n",
    "    return segments"
   ],
   "id": "b2c5a570c32d38e",
   "outputs": [],
   "execution_count": 6
  },
  {
   "metadata": {},
   "cell_type": "markdown",
   "source": [
    "## Plot Spectrum and Absorption coefficient\n",
    "Here we see the overlap between the absorption coefficient of each GHG under consideration with the radiation emitted from the surface.\n",
    "\n",
    "Also give option if `show_earth_transmission=True`, to consider overlap between radiation that escapes from surface to space, with absorption coefficients. In this case, we highlight spectral regions where at least one GHG has absorption coefficient greater than 1."
   ],
   "id": "1962bca824a7b5c8"
  },
  {
   "metadata": {
    "ExecuteTime": {
     "end_time": "2025-05-27T14:06:41.021631Z",
     "start_time": "2025-05-27T14:06:40.708367Z"
    }
   },
   "cell_type": "code",
   "source": [
    "molecules_plot = ['co2', 'ch4', 'h2o']\n",
    "molecules_plot = ['cfc12']\n",
    "alpha_faint = 1\n",
    "# alpha_faint = 1\n",
    "show_earth_transmission = False    # show radiation from surface that reaches space in earth like climate\n",
    "absorb_coef_nu_centre = {key: np.zeros(n_bands) for key in ['co2', 'ch4']}\n",
    "fig, ax = plt.subplots(1, 1)\n",
    "fig_resize_use(fig)\n",
    "for key in molecules_plot:\n",
    "    if key == 'cfc12':\n",
    "        continue\n",
    "    j = 0\n",
    "    nu_use, absorb_coef_use = hitran.plot_absorption_coefficient(key, hitran.p_reference, temp_surf, do_plot=False)\n",
    "    if show_earth_transmission:\n",
    "        if key == 'h2o':\n",
    "            continue\n",
    "        absorb_coef_nu_centre[key] = np.interp(atmos_base.nu_bands['centre'], nu_use, absorb_coef_use)\n",
    "        segments = get_continuous_segments(nu_use, absorb_coef_use, absorb_coef_use<1)\n",
    "        # Plot\n",
    "        for seg_x, seg_y, is_low in segments:\n",
    "            alpha = alpha_faint if is_low else 1.0\n",
    "            if not is_low and j==0:\n",
    "                label_use = label_molecule[key]\n",
    "                j+= 1\n",
    "            else:\n",
    "                label_use = None\n",
    "            ax.plot(seg_x, seg_y, color=colors_molecule[key], alpha=alpha, label=label_use)\n",
    "    else:\n",
    "        ax.plot(nu_use, absorb_coef_use, color=colors_molecule[key], label=label_molecule[key])\n",
    "    if key == 'h2o' and show_earth_transmission:\n",
    "        continue\n",
    "ax.set_xlim(ax_lim_spectrum)\n",
    "ax.set_yscale('log')\n",
    "ax.yaxis.set_minor_formatter(plt.NullFormatter())\n",
    "ax.yaxis.set_minor_locator(plt.NullLocator())\n",
    "# ax.set_yticks(None)\n",
    "ax.set_ylim(10**-5, 10**3)\n",
    "ax.set_xlabel('Wavenumber [cm$^{-1}$]')\n",
    "ax.set_ylabel('Absorption coefficient [m$^2$/kg]')\n",
    "\n",
    "ax2 = ax.twinx()\n",
    "# ax2.plot(atmos_base.nu_bands['centre'], spectrum_surface, color='k')\n",
    "if show_earth_transmission:\n",
    "    absorb_coef_nu_centre['max'] = np.max(np.stack(list(absorb_coef_nu_centre.values())), axis=0)       # get max across all molecules\n",
    "\n",
    "    # Get segments with shared points\n",
    "    segments = get_continuous_segments(atmos_base.nu_bands['centre'], olr_breakdown_earth[3]['surface'], absorb_coef_nu_centre['max']<1)\n",
    "    # Plot\n",
    "    for seg_x, seg_y, is_low in segments:\n",
    "        alpha = alpha_faint if is_low else 1.0\n",
    "        ax2.plot(seg_x, seg_y, color='k', alpha=alpha)\n",
    "else:\n",
    "    ax2.plot(atmos_base.nu_bands['centre'], spectrum_surface, color='k')\n",
    "\n",
    "ax2.spines['right'].set_visible(True)\n",
    "ax2.spines['left'].set_visible(False)\n",
    "ax2.spines['bottom'].set_visible(False)\n",
    "ax2.set_ylabel('Surface Flux [W/m$^2$/cm$^{-1}$]')\n",
    "ax2.set_ylim(ax_lim_flux)\n",
    "\n",
    "if 'cfc12' in molecules_plot:\n",
    "    nu_cfc, abs_cfc = hitran.load_from_cross_section_xsc(None, None, None, 'CFC12', True)\n",
    "    n_convolve = 1000       # smooth out absorption peaks\n",
    "    ax.plot(np.convolve(nu_cfc[:-1], np.ones(n_convolve)/n_convolve, 'valid'), np.convolve(abs_cfc, np.ones(n_convolve)/n_convolve, 'valid'),\n",
    "            color=colors_molecule['cfc12'], label=label_molecule['cfc12'])\n",
    "\n",
    "update_linewidth_use(fig)\n",
    "if 'ch4' in molecules_plot or 'cfc12' in molecules_plot:\n",
    "    add_legend(ax, loc='upper right')\n",
    "if show_earth_transmission and alpha_faint != 1:\n",
    "    ax.axhline(1, color='k', lw=ax_linewidth)\n",
    "update_fontsize_use(fig)\n",
    "plt.show()\n",
    "# savefig(fig)"
   ],
   "id": "b8231eac38d66851",
   "outputs": [
    {
     "data": {
      "text/plain": [
       "<Figure size 460.8x242.526 with 2 Axes>"
      ],
      "image/png": "[encoded data removed]"
     },
     "metadata": {
      "needs_background": "light"
     },
     "output_type": "display_data"
    }
   ],
   "execution_count": 8
  },
  {
   "metadata": {},
   "cell_type": "markdown",
   "source": [
    "## Effect of adding GHG to the OLR\n",
    "Here, we see the effect of adding a given mass of GHG on the OLR, starting from an empty atmosphere. CO2 and methane are well mixed, so mass added throughout the atmosphere. For H2O, we set a constant gradient to 0 at tropopause, so x-axis value indicates surface mass."
   ],
   "id": "b86d4d526be4a3c7"
  },
  {
   "metadata": {
    "ExecuteTime": {
     "end_time": "2025-05-27T14:08:30.285036Z",
     "start_time": "2025-05-27T14:06:41.037613Z"
    }
   },
   "cell_type": "code",
   "source": [
    "co2_conc = np.arange(0, 1000+50, 50)\n",
    "co2_conc[0] = 1   # otherwise get 0 error\n",
    "n_conc = co2_conc.size\n",
    "olr_breakdown = {key2: {key: np.zeros((n_conc, n_bands)) for key in ['all', 'surface', 'atmos']} for key2 in ['co2', 'ch4', 'gray', 'h2o']}\n",
    "pbar = tqdm(total=n_conc*3)\n",
    "for key in ['co2', 'ch4', 'gray']:\n",
    "    for i in range(n_conc):\n",
    "        key_mass = 'co2' if key=='gray' else key\n",
    "        atmos_use = RealGas(nz='auto', ny=1, molecule_names=[key], p_toa=p_toa,\n",
    "                             q_funcs={key: humidity.constant_q}, q_funcs_args={key: (eqv_ppmv(key_mass, co2_conc[i]), key_mass)},\n",
    "                             T_func=temp_profile_use, n_nu_bands=n_bands)\n",
    "        olr_breakdown[key]['all'][i] = atmos_use.up_flux[0]\n",
    "        var = atmos_use.get_flux(include_olr_breakdown=True)[2]\n",
    "        olr_breakdown[key]['surface'][i] = var['surface']\n",
    "        pbar.update(1)\n",
    "    olr_breakdown[key]['atmos'] = olr_breakdown[key]['all'] - olr_breakdown[key]['surface']"
   ],
   "id": "38c4e97aa490afb2",
   "outputs": [
    {
     "data": {
      "text/plain": [
       "  0%|          | 0/63 [00:00<?, ?it/s]"
      ],
      "application/vnd.jupyter.widget-view+json": {
       "version_major": 2,
       "version_minor": 0,
       "model_id": "04dda4b6a1f54fa4b8a2c5ae319c7a7a"
      },
      "application/json": {
       "n": 0,
       "total": 63,
       "elapsed": 0.009353876113891602,
       "ncols": null,
       "nrows": null,
       "prefix": "",
       "ascii": false,
       "unit": "it",
       "unit_scale": false,
       "rate": null,
       "bar_format": null,
       "postfix": null,
       "unit_divisor": 1000,
       "initial": 0,
       "colour": null
      }
     },
     "metadata": {},
     "output_type": "display_data"
    }
   ],
   "execution_count": 9
  },
  {
   "metadata": {
    "ExecuteTime": {
     "end_time": "2025-05-27T14:09:02.599032Z",
     "start_time": "2025-05-27T14:08:30.397332Z"
    }
   },
   "cell_type": "code",
   "source": [
    "key = 'h2o'\n",
    "for i in tqdm(range(n_conc)):\n",
    "    key_mass = 'co2' if key=='gray' else key\n",
    "    atmos_use = RealGas(nz='auto', ny=1, molecule_names=[key], p_toa=p_toa,\n",
    "                         q_funcs={key: humidity.gradient_q}, q_funcs_args={key: (eqv_ppmv(key, co2_conc[i]), 0, h_tropopause*1000, key)},\n",
    "                         T_func=temp_profile_use, n_nu_bands=n_bands)\n",
    "    olr_breakdown[key]['all'][i] = atmos_use.up_flux[0]\n",
    "    var = atmos_use.get_flux(include_olr_breakdown=True)[2]\n",
    "    olr_breakdown[key]['surface'][i] = var['surface']\n",
    "    pbar.update(1)\n",
    "olr_breakdown[key]['atmos'] = olr_breakdown[key]['all'] - olr_breakdown[key]['surface']"
   ],
   "id": "a1244872830118c3",
   "outputs": [
    {
     "data": {
      "text/plain": [
       "  0%|          | 0/21 [00:00<?, ?it/s]"
      ],
      "application/vnd.jupyter.widget-view+json": {
       "version_major": 2,
       "version_minor": 0,
       "model_id": "57ff8f1331c544b18e45ba217a6ba0e1"
      },
      "application/json": {
       "n": 0,
       "total": 21,
       "elapsed": 0.0037467479705810547,
       "ncols": null,
       "nrows": null,
       "prefix": "",
       "ascii": false,
       "unit": "it",
       "unit_scale": false,
       "rate": null,
       "bar_format": null,
       "postfix": null,
       "unit_divisor": 1000,
       "initial": 0,
       "colour": null
      }
     },
     "metadata": {},
     "output_type": "display_data"
    }
   ],
   "execution_count": 10
  },
  {
   "metadata": {
    "ExecuteTime": {
     "end_time": "2025-05-27T14:09:02.625728Z",
     "start_time": "2025-05-27T14:09:02.622429Z"
    }
   },
   "cell_type": "code",
   "source": [
    "linestyle_olr = {'all': '-', 'surface': '--', 'atmos': ':'}\n",
    "label_olr = {'all': 'Total', 'surface': 'Surface', 'atmos': 'Atmosphere'}\n",
    "olr_area_tropopause = get_olr_area(atmos_base, flux=B_wavenumber(atmos_base.nu_bands['centre'], temp_tropopause) * np.pi)\n",
    "olr_area_surface = get_olr_area(atmos_base, flux=B_wavenumber(atmos_base.nu_bands['centre'], temp_surf) * np.pi)"
   ],
   "id": "9e3186e025bb416d",
   "outputs": [],
   "execution_count": 11
  },
  {
   "metadata": {
    "ExecuteTime": {
     "end_time": "2025-05-27T14:09:02.736861Z",
     "start_time": "2025-05-27T14:09:02.655089Z"
    }
   },
   "cell_type": "code",
   "source": [
    "plot_diff = False\n",
    "fig, ax = plt.subplots(1, 1)\n",
    "fig_resize_use(fig)\n",
    "for key2 in ['co2', 'ch4', 'h2o']:\n",
    "    # if not plot_diff and key2 == 'ch4':\n",
    "    #     continue\n",
    "    for key in olr_breakdown[key2]:\n",
    "        var = [get_olr_area(atmos_base, flux=olr_breakdown[key2][key][i]) for i in range(n_conc)]\n",
    "        if plot_diff and key != 'atmos':\n",
    "            var -= olr_area_surface\n",
    "        ax.plot(co2_conc, var, color=colors_molecule[key2], linestyle=linestyle_olr[key], label=label_olr[key] if key2 == 'gray' else None)\n",
    "# ax.plot(co2_conc, olr_breakdown['atmos'])\n",
    "\n",
    "update_linewidth_use(fig)\n",
    "add_legend(ax, loc='center right')\n",
    "update_fontsize_use(fig)\n",
    "ax.set_xlabel('GHG concentration [ppmv]')\n",
    "ax.set_xlim(0, co2_conc[-1])\n",
    "if not plot_diff:\n",
    "    ax.axhline(olr_area_tropopause, color='r', lw=ax_linewidth)\n",
    "    ax.set_ylim(0, 400)\n",
    "    ax.set_ylabel('OLR [Wm$^{-2}$]')\n",
    "else:\n",
    "    ax.set_ylabel('OLR change [Wm$^{-2}$]')\n",
    "    ax.axhline(0, color='k', lw=ax_linewidth)\n",
    "    ax.set_ylim(-100, 100)\n",
    "plt.show()\n",
    "# savefig(fig)"
   ],
   "id": "2115a3470fb6491a",
   "outputs": [
    {
     "name": "stderr",
     "output_type": "stream",
     "text": [
      "No artists with labels found to put in legend.  Note that artists whose label start with an underscore are ignored when legend() is called with no argument.\n"
     ]
    },
    {
     "data": {
      "text/plain": [
       "<Figure size 460.8x242.526 with 1 Axes>"
      ],
      "image/png": "[encoded data removed]"
     },
     "metadata": {
      "needs_background": "light"
     },
     "output_type": "display_data"
    }
   ],
   "execution_count": 12
  },
  {
   "metadata": {},
   "cell_type": "markdown",
   "source": [
    "### GIF showing spectra change\n",
    "The above shows the integrated OLR across all wavenumbers. Below, we show how the entire OLR spectra evolves as more GHG is added."
   ],
   "id": "6356f5ac343f0bae"
  },
  {
   "metadata": {
    "ExecuteTime": {
     "end_time": "2025-05-27T14:09:20.757068Z",
     "start_time": "2025-05-27T14:09:02.750963Z"
    }
   },
   "cell_type": "code",
   "source": [
    "dpi_gif = 800\n",
    "fig, ax = plt.subplots(1, 1, dpi=dpi_gif)\n",
    "fig_resize_use(fig)\n",
    "fig.subplots_adjust(bottom=0.17)  # or top/left/right\n",
    "\n",
    "def animate(n, fig, key2):\n",
    "    ax = fig.axes[0]\n",
    "    ax.clear()\n",
    "    for key in olr_breakdown[key2]:\n",
    "        ax.plot(atmos_base.nu_bands['centre'], olr_breakdown[key2][key][n], color='k', linestyle=linestyle_olr[key], label=label_olr[key])\n",
    "    update_linewidth_use(fig)\n",
    "    ax.plot(atmos_base.nu_bands['centre'], spectrum_surface, color='r', lw=ax_linewidth)\n",
    "    ax.plot(atmos_base.nu_bands['centre'], spectrum_tropopause, color='r', lw=ax_linewidth)\n",
    "    ax.set_xlim(ax_lim_spectrum)\n",
    "    ax.set_ylim(ax_lim_flux)\n",
    "    ax.set_xlabel('Wavenumber [cm$^{-1}$]')\n",
    "    ax.set_ylabel('OLR spectrum [W/m$^2$/cm$^{-1}$]')\n",
    "    add_legend(ax, loc='upper right')\n",
    "    ax.set_title(f\"{co2_conc[n]} ppmv\")\n",
    "    update_fontsize_use(fig)\n",
    "    # print(n)\n",
    "\n",
    "molecule_use = 'h2o'\n",
    "anim = FuncAnimation(fig, animate, frames=n_conc, interval=150,\n",
    "                     blit=False, repeat_delay=300, fargs=(fig, molecule_use))\n",
    "plt.close()\n",
    "HTML(anim.to_jshtml())\n",
    "\n",
    "# Save animation\n",
    "writervideo = matplotlib.animation.PillowWriter(fps=3)\n",
    "# anim.save(f'/Users/joshduffield/Desktop/{molecule_use}_spectra.mp4', writer='ffmpeg', fps=3)"
   ],
   "id": "1a2809d50a2b7971",
   "outputs": [],
   "execution_count": 13
  },
  {
   "metadata": {},
   "cell_type": "markdown",
   "source": "### GIF of changing concentration",
   "id": "4dec134e99702ee6"
  },
  {
   "metadata": {
    "ExecuteTime": {
     "end_time": "2025-05-27T14:53:11.702030Z",
     "start_time": "2025-05-27T14:52:52.378574Z"
    }
   },
   "cell_type": "code",
   "source": [
    "fig, ax = plt.subplots(1, 1, dpi=dpi_gif)\n",
    "fig_resize_use(fig)\n",
    "fig.subplots_adjust(bottom=0.17)  # or top/left/right\n",
    "\n",
    "def animate(n, fig):\n",
    "    ax = fig.axes[0]\n",
    "    ax.clear()\n",
    "    ax.axvline(co2_conc[n], color='k', label='Constant')\n",
    "    var = humidity.ppmv_from_humidity(\n",
    "        humidity.gradient_q(atmos_base.p, co2_conc[n], 0, h_tropopause*1000, 'co2'), 'CO2')\n",
    "    h_plot = p_altitude_convert(p=atmos_base.p)/1000\n",
    "    h_plot = np.append(h_plot, 0)\n",
    "    ax.plot(np.append(var, co2_conc[n]), h_plot, label='Surface peak', color=default_colors[0])\n",
    "    var = humidity.ppmv_from_humidity(\n",
    "        humidity.gradient_q(atmos_base.p, 0, co2_conc[n], h_tropopause*1000, 'co2'), 'CO2')\n",
    "    ax.plot(np.append(var, 0), h_plot, label='Tropopause peak', color=default_colors[1])\n",
    "    update_linewidth_use(fig)\n",
    "    ax.set_ylim(0, 20)\n",
    "    ax.set_xlim(co2_conc[0]-10, co2_conc[-1]+10)\n",
    "    ax.set_xlabel('Volume Mixing Ratio (ppmv)')\n",
    "    ax.set_ylabel('Altitude [km]')\n",
    "    update_fontsize_use(fig)\n",
    "    add_legend(ax, loc='upper right')\n",
    "    # print(n)\n",
    "\n",
    "anim = FuncAnimation(fig, animate, frames=n_conc, interval=150,\n",
    "                     blit=False, repeat_delay=300, fargs=(fig,))\n",
    "plt.close()\n",
    "HTML(anim.to_jshtml())\n",
    "\n",
    "# Save animation\n",
    "writervideo = matplotlib.animation.PillowWriter(fps=3)\n",
    "anim.save(f'/Users/joshduffield/Desktop/mass_change.mp4', writer='ffmpeg', fps=3)"
   ],
   "id": "d2ffdd8693c1a50f",
   "outputs": [],
   "execution_count": 39
  },
  {
   "metadata": {},
   "cell_type": "markdown",
   "source": [
    "## Combine All GHG in same world\n",
    "Above we were adding GHG to an empty atmosphere, here we consider adding to atmosphere with same temperature profile, but already contains greenhouse gas in earth-like concentrations.\n",
    "\n",
    "You can also set `same_co2_ch4_mass=True` to consider atmosphere where starting $CO_2$ concentration is reduced to be that of $CH_4$, to see the sensitivity to the starting concentration.\n",
    "\n",
    "### Composition\n",
    "Below we show the volume mixing ratio of the 3 main greenhouse gases."
   ],
   "id": "e11b9bb49d1ce614"
  },
  {
   "metadata": {
    "ExecuteTime": {
     "end_time": "2025-05-27T14:09:20.791764Z",
     "start_time": "2025-05-27T14:09:20.786143Z"
    }
   },
   "cell_type": "code",
   "source": [
    "same_co2_ch4_mass = False  # set to True to do experiment with same initial mass of CO2 as methane\n",
    "def const_rh_plus_const(p, rh=0.7, const_add=0, molecule='H2O', temp=temp_profile_use, h_upper=h_tropopause*1000):\n",
    "    q = humidity.constant_rh(p, temp, rh, h_upper, molecule)   # base constant humidity profile\n",
    "    q += humidity.humidity_from_ppmv(const_add, molecule)  # add the constant value throughout atmosphere\n",
    "    return q\n",
    "\n",
    "q_funcs = {'co2': humidity.constant_q, 'ch4': humidity.constant_q, 'h2o': const_rh_plus_const}\n",
    "if not same_co2_ch4_mass:\n",
    "    # typical earth co2 and methane in current climate\n",
    "    q_args = {'co2': (370, 'CO2'), 'ch4': (1.75, 'CH4'), 'h2o': (0.7, 0, 'H2O')}\n",
    "else:\n",
    "    # same mass of co2 and methane in base climate\n",
    "    q_args = {'co2': (humidity.molecules['CH4']['M']/humidity.molecules['CO2']['M'] * 1.75, 'CO2'),\n",
    "              'ch4': (1.75, 'CH4'), 'h2o': (0.7, 0, 'H2O')}"
   ],
   "id": "3e59580a6c802c07",
   "outputs": [],
   "execution_count": 14
  },
  {
   "metadata": {
    "ExecuteTime": {
     "end_time": "2025-05-27T14:09:20.985673Z",
     "start_time": "2025-05-27T14:09:20.819683Z"
    }
   },
   "cell_type": "code",
   "source": [
    "show_change = False\n",
    "fig, ax = plt.subplots(1, 1)\n",
    "fig_resize_use(fig)\n",
    "for key in q_funcs:\n",
    "    ax.plot(humidity.ppmv_from_humidity(\n",
    "        q_funcs[key](atmos_base.p, *q_args[key]), key.upper()),\n",
    "        p_altitude_convert(p=atmos_base.p)/1000, label=label_molecule[key.lower()], color=colors_molecule[key])\n",
    "    if show_change:\n",
    "        ax.plot(humidity.ppmv_from_humidity(\n",
    "            q_funcs[key](atmos_base.p, *q_args_change[key+'_change'][key]), key.upper()),\n",
    "            p_altitude_convert(p=atmos_base.p)/1000, linestyle='--', color=colors_molecule[key])\n",
    "ax.set_ylim(0, 20)\n",
    "ax.set_xscale('log')\n",
    "ax.set_xlabel('Volume Mixing Ratio (ppmv)')\n",
    "ax.set_ylabel('Altitude [km]')\n",
    "ax.set_xlim(1, 13000)\n",
    "update_linewidth_use(fig)\n",
    "add_legend(ax)\n",
    "update_fontsize_use(fig)\n",
    "plt.show()\n",
    "# savefig(fig)"
   ],
   "id": "a3429ea19a8e1ed4",
   "outputs": [
    {
     "data": {
      "text/plain": [
       "<Figure size 460.8x242.526 with 1 Axes>"
      ],
      "image/png": "[encoded data removed]"
     },
     "metadata": {
      "needs_background": "light"
     },
     "output_type": "display_data"
    }
   ],
   "execution_count": 15
  },
  {
   "metadata": {},
   "cell_type": "markdown",
   "source": [
    "### OLR spectrum of Base Climate\n",
    "For the empty atmosphere, the starting OLR was just the surface emission. Here, the OLR differs from the surface blackbody, and is shown below with `key2=3`.\n",
    "With `key2=1, 2` the OLR can be seen if just water or water+co2 in above concentrations present."
   ],
   "id": "4de3cab852edb936"
  },
  {
   "metadata": {
    "ExecuteTime": {
     "end_time": "2025-05-27T14:09:26.545034Z",
     "start_time": "2025-05-27T14:09:21.001330Z"
    }
   },
   "cell_type": "code",
   "source": [
    " # OLR with just water, then add co2, then add methane\n",
    "molecules_earth = {1: ['h2o'], 2: ['h2o', 'co2'], 3: ['h2o', 'co2', 'ch4']}\n",
    "olr_breakdown_earth = {key2: {key: np.zeros(n_bands) for key in ['all', 'surface', 'atmos']} for key2 in molecules_earth}\n",
    "for key2 in molecules_earth:\n",
    "    atmos_use = RealGas(nz='auto', ny=1, molecule_names=molecules_earth[key2], p_toa=p_toa,\n",
    "                        q_funcs={key: q_funcs[key] for key in molecules_earth[key2]}, q_funcs_args={key: q_args[key] for key in molecules_earth[key2]},\n",
    "                        T_func=temp_profile_use, n_nu_bands=n_bands)\n",
    "    olr_breakdown_earth[key2]['all'] = atmos_use.up_flux[0]\n",
    "    var = atmos_use.get_flux(include_olr_breakdown=True)[2]\n",
    "    olr_breakdown_earth[key2]['surface'] = var['surface']\n",
    "    olr_breakdown_earth[key2]['atmos'] = olr_breakdown_earth[key2]['all'] - olr_breakdown_earth[key2]['surface']"
   ],
   "id": "ec7dd711856dcf3f",
   "outputs": [],
   "execution_count": 16
  },
  {
   "metadata": {
    "ExecuteTime": {
     "end_time": "2025-05-27T14:09:26.631613Z",
     "start_time": "2025-05-27T14:09:26.560337Z"
    }
   },
   "cell_type": "code",
   "source": [
    "key2 = 3\n",
    "fig, ax = plt.subplots(1, 1)\n",
    "fig_resize_use(fig)\n",
    "for key in olr_breakdown_earth[key2]:\n",
    "    ax.plot(atmos_base.nu_bands['centre'], olr_breakdown_earth[key2][key], color='k', linestyle=linestyle_olr[key], label=label_olr[key])\n",
    "update_linewidth_use(fig)\n",
    "ax.plot(atmos_base.nu_bands['centre'], spectrum_surface, color='r', lw=ax_linewidth)\n",
    "ax.plot(atmos_base.nu_bands['centre'], spectrum_tropopause, color='r', lw=ax_linewidth)\n",
    "ax.set_xlim(ax_lim_spectrum)\n",
    "ax.set_ylim(ax_lim_flux)\n",
    "ax.set_xlabel('Wavenumber [cm$^{-1}$]')\n",
    "ax.set_ylabel('OLR spectrum [W/m$^2$/cm$^{-1}$]')\n",
    "add_legend(ax, loc='upper right')\n",
    "update_fontsize_use(fig)\n",
    "# savefig(fig)"
   ],
   "id": "4ceaa753d3d9d043",
   "outputs": [
    {
     "data": {
      "text/plain": [
       "<Figure size 460.8x242.526 with 1 Axes>"
      ],
      "image/png": "[encoded data removed]"
     },
     "metadata": {
      "needs_background": "light"
     },
     "output_type": "display_data"
    }
   ],
   "execution_count": 17
  },
  {
   "metadata": {},
   "cell_type": "markdown",
   "source": [
    "### Change in OLR with mass\n",
    "Below, we plot the change in OLR due to adding mass equivalent to 50ppmv of CO2 to the atmosphere, across the entire atmospheric column (even for H20, just add at all altitudes)."
   ],
   "id": "65d7045505a136cc"
  },
  {
   "metadata": {
    "ExecuteTime": {
     "end_time": "2025-05-27T14:09:32.593480Z",
     "start_time": "2025-05-27T14:09:26.648263Z"
    }
   },
   "cell_type": "code",
   "source": [
    "# Look at effect of adding mass eqv to 5ppmv of CO2 and methane, what is the total effect?\n",
    "co2_warm_change = 50\n",
    "q_args_change = {}\n",
    "q_args_change['co2_change'] = {key: q_args[key] for key in ['h2o', 'ch4']}\n",
    "q_args_change['co2_change']['co2'] = (370+co2_warm_change, 'CO2')\n",
    "q_args_change['ch4_change'] = {key: q_args[key] for key in ['h2o', 'co2']}\n",
    "q_args_change['ch4_change']['ch4'] = (1.75+eqv_ppmv('ch4', co2_warm_change), 'CH4')\n",
    "q_args_change['h2o_change'] = {key: q_args[key] for key in ['ch4', 'co2']}\n",
    "q_args_change['h2o_change']['h2o'] = (0.7, eqv_ppmv('h2o', co2_warm_change), 'H2O')\n",
    "\n",
    "for key2 in q_args_change:\n",
    "    olr_breakdown_earth[key2] = {key: np.zeros(n_bands) for key in ['all', 'surface', 'atmos']}\n",
    "    atmos_use = RealGas(nz='auto', ny=1, molecule_names=molecules_earth[3], p_toa=p_toa,\n",
    "                        q_funcs={key: q_funcs[key] for key in molecules_earth[3]}, q_funcs_args={key: q_args_change[key2][key] for key in molecules_earth[3]},\n",
    "                        T_func=temp_profile_use, n_nu_bands=n_bands)\n",
    "\n",
    "    olr_breakdown_earth[key2]['all'] = atmos_use.up_flux[0]\n",
    "    var = atmos_use.get_flux(include_olr_breakdown=True)[2]\n",
    "    olr_breakdown_earth[key2]['surface'] = var['surface']\n",
    "    olr_breakdown_earth[key2]['atmos'] = olr_breakdown_earth[key2]['all'] - olr_breakdown_earth[key2]['surface']"
   ],
   "id": "e0189e478141568",
   "outputs": [],
   "execution_count": 18
  },
  {
   "metadata": {
    "ExecuteTime": {
     "end_time": "2025-05-27T14:09:32.613696Z",
     "start_time": "2025-05-27T14:09:32.610317Z"
    }
   },
   "cell_type": "code",
   "source": [
    "# record change in overall olr from base climate\n",
    "olr_change_area_diff = {key: get_olr_area(atmos_base, olr_breakdown_earth[3]['all']) - get_olr_area(atmos_base, olr_breakdown_earth[key]['all'])\n",
    "                        for key in q_args_change}"
   ],
   "id": "7c20a38ae94dab10",
   "outputs": [],
   "execution_count": 19
  },
  {
   "metadata": {
    "ExecuteTime": {
     "end_time": "2025-05-27T14:09:32.723400Z",
     "start_time": "2025-05-27T14:09:32.637783Z"
    }
   },
   "cell_type": "code",
   "source": [
    "fig, ax = plt.subplots(1, 1)\n",
    "fig_resize_use(fig)\n",
    "for key in olr_breakdown_earth[3]:\n",
    "    for key2 in q_args_change:\n",
    "        ax.plot(atmos_base.nu_bands['centre'], olr_breakdown_earth[key2][key] - olr_breakdown_earth[3][key], color=colors_molecule[key2.replace('_change','')],\n",
    "                linestyle=linestyle_olr[key], label=f\"{label_molecule[key2.replace('_change','')]}: {olr_change_area_diff[key2]:.1f}\" if key=='all' else None)\n",
    "    # ax.plot(atmos_base.nu_bands['centre'], olr_breakdown_earth['ch4_change'][key] - olr_breakdown_earth[3][key], color=colors_molecule['ch4'],\n",
    "    #         linestyle=linestyle_olr[key])\n",
    "    # ax.plot(atmos_base.nu_bands['centre'], olr_breakdown_earth['h2o_change'][key] - olr_breakdown_earth[3][key], color=colors_molecule['h2o'],\n",
    "    #         linestyle=linestyle_olr[key])\n",
    "update_linewidth_use(fig)\n",
    "# ax.plot(atmos_base.nu_bands['centre'], spectrum_surface, color='r', lw=ax_linewidth)\n",
    "# ax.plot(atmos_base.nu_bands['centre'], spectrum_tropopause, color='r', lw=ax_linewidth)\n",
    "# ax.set_yscale('log')\n",
    "ax.set_xlim(ax_lim_spectrum)\n",
    "# ax.set_ylim(-0.3, 0.13)\n",
    "ax.set_xlabel('Wavenumber [cm$^{-1}$]')\n",
    "ax.set_ylabel('OLR spectrum change [W/m$^2$/cm$^{-1}$]')\n",
    "add_legend(ax, loc='lower right', title='OLR change [Wm$^{-2}$]')\n",
    "update_fontsize_use(fig)\n",
    "# savefig(fig)"
   ],
   "id": "5c9f531046d29f79",
   "outputs": [
    {
     "data": {
      "text/plain": [
       "<Figure size 460.8x242.526 with 1 Axes>"
      ],
      "image/png": "[encoded data removed]"
     },
     "metadata": {
      "needs_background": "light"
     },
     "output_type": "display_data"
    }
   ],
   "execution_count": 20
  },
  {
   "metadata": {
    "ExecuteTime": {
     "end_time": "2025-05-27T14:09:32.741Z",
     "start_time": "2025-05-27T14:09:32.739167Z"
    }
   },
   "cell_type": "code",
   "source": "",
   "id": "dd21d10033ebeeef",
   "outputs": [],
   "execution_count": null
  }
 ],
 "metadata": {
  "kernelspec": {
   "display_name": "Python 3",
   "language": "python",
   "name": "python3"
  },
  "language_info": {
   "codemirror_mode": {
    "name": "ipython",
    "version": 2
   },
   "file_extension": ".py",
   "mimetype": "text/x-python",
   "name": "python",
   "nbconvert_exporter": "python",
   "pygments_lexer": "ipython2",
   "version": "2.7.6"
  }
 },
 "nbformat": 4,
 "nbformat_minor": 5
}
